{
 "cells": [
  {
   "cell_type": "code",
   "execution_count": 5,
   "metadata": {
    "collapsed": true
   },
   "outputs": [],
   "source": [
    "#libraries\n",
    "import os #lets us interact with underlying operating system\n",
    "import numpy as np #\n",
    "from sklearn.linear_model import LinearRegression #if we want to use sklearn linear regression\n",
    "import sklearn.preprocessing\n",
    "#from scipy.stats import boxcox\n",
    "import scipy\n",
    "import statsmodels.api as sm\n",
    "import statsmodels.stats.stattools as stattools\n",
    "import statsmodels.tsa as tsa#import adfuller\n",
    "import pandas as pd\n",
    "import datetime\n",
    "import matplotlib.pyplot as plt\n",
    "%matplotlib inline"
   ]
  },
  {
   "cell_type": "code",
   "execution_count": 6,
   "metadata": {
    "collapsed": true
   },
   "outputs": [],
   "source": [
    "training = pd.read_csv('./Dataset/full_coffee_prices_test.csv')"
   ]
  },
  {
   "cell_type": "code",
   "execution_count": 7,
   "metadata": {
    "collapsed": true
   },
   "outputs": [],
   "source": [
    "y,fitted_lambda= scipy.stats.boxcox(training['price'],lmbda = None)\n",
    "training['box_cox'] = y\n",
    "training['box_cox_diff'] = training['box_cox'] - training['box_cox'].shift(1)\n",
    "training = training.dropna()"
   ]
  },
  {
   "cell_type": "code",
   "execution_count": 15,
   "metadata": {
    "collapsed": true
   },
   "outputs": [],
   "source": [
    "def reverse_to_price(series, differenced_series, l):\n",
    "    y = series + differenced_series\n",
    "    y = scipy.special.inv_boxcox(y, l)\n",
    "    return(y)"
   ]
  },
  {
   "cell_type": "code",
   "execution_count": 8,
   "metadata": {},
   "outputs": [
    {
     "name": "stdout",
     "output_type": "stream",
     "text": [
      "ADF Statistic: -2.156159\n",
      "p-value: 0.222540\n",
      "Critical Values:\n",
      "\t5%: -2.863\n",
      "\t10%: -2.568\n",
      "\t1%: -3.434\n"
     ]
    }
   ],
   "source": [
    "#Initial baseline with just price\n",
    "augmented_dicky_fuller = tsa.stattools.adfuller(training['price'][1:])\n",
    "print('ADF Statistic: %f' % augmented_dicky_fuller[0])\n",
    "print('p-value: %f' % augmented_dicky_fuller[1])\n",
    "print('Critical Values:')\n",
    "for key, value in augmented_dicky_fuller[4].items():\n",
    "print('\\t%s: %.3f' % (key, value))"
   ]
  },
  {
   "cell_type": "code",
   "execution_count": 9,
   "metadata": {},
   "outputs": [
    {
     "name": "stdout",
     "output_type": "stream",
     "text": [
      "ADF Statistic: -1.794588\n",
      "p-value: 0.383152\n",
      "Critical Values:\n",
      "\t5%: -2.863\n",
      "\t10%: -2.568\n",
      "\t1%: -3.434\n"
     ]
    }
   ],
   "source": [
    "#With Box-Cox transform. This addresses normality, not stationarity. \n",
    "#But the closer we are to normality,the more confident we are of these tests\n",
    "augmented_dicky_fuller = tsa.stattools.adfuller(training['box_cox'][1:])\n",
    "print('ADF Statistic: %f' % augmented_dicky_fuller[0])\n",
    "print('p-value: %f' % augmented_dicky_fuller[1])\n",
    "print('Critical Values:')\n",
    "for key, value in augmented_dicky_fuller[4].items():\n",
    "print('\\t%s: %.3f' % (key, value))"
   ]
  },
  {
   "cell_type": "code",
   "execution_count": 10,
   "metadata": {},
   "outputs": [
    {
     "name": "stdout",
     "output_type": "stream",
     "text": [
      "ADF Statistic: -22.649439\n",
      "p-value: 0.000000\n",
      "Critical Values:\n",
      "\t5%: -2.863\n",
      "\t10%: -2.568\n",
      "\t1%: -3.434\n"
     ]
    }
   ],
   "source": [
    "#Lets start by testing for stationarity and autocorrelation to establish a baseline.\n",
    "#We'll do the Box-Cox + first difference transformations we established previously\n",
    "augmented_dicky_fuller = tsa.stattools.adfuller(training['box_cox_diff'][1:])\n",
    "print('ADF Statistic: %f' % augmented_dicky_fuller[0])\n",
    "print('p-value: %f' % augmented_dicky_fuller[1])\n",
    "print('Critical Values:')\n",
    "for key, value in augmented_dicky_fuller[4].items():\n",
    "\tprint('\\t%s: %.3f' % (key, value))"
   ]
  },
  {
   "cell_type": "code",
   "execution_count": 9,
   "metadata": {},
   "outputs": [
    {
     "name": "stdout",
     "output_type": "stream",
     "text": [
      "ADF Statistic: -6.398845\n",
      "p-value: 0.000000\n",
      "Critical Values:\n",
      "\t5%: -2.873\n",
      "\t10%: -2.573\n",
      "\t1%: -3.457\n"
     ]
    }
   ],
   "source": [
    "year_2019 = training[(training['week_days'] >= '2019-01-01') & (training['week_days'] < '2020-01-01')]\n",
    "augmented_dicky_fuller = tsa.stattools.adfuller(year_2019['box_cox_diff'])\n",
    "print('ADF Statistic: %f' % augmented_dicky_fuller[0])\n",
    "print('p-value: %f' % augmented_dicky_fuller[1])\n",
    "print('Critical Values:')\n",
    "for key, value in augmented_dicky_fuller[4].items():\n",
    "print('\\t%s: %.3f' % (key, value))"
   ]
  },
  {
   "cell_type": "markdown",
   "metadata": {},
   "source": [
    "The **Augmented Dicky-Fuller** test is testing the null hypothesis that a unit root is present. The lower the p-value/more negative the ADF statistic is, the more confident we are there is not unit root. It is easy to think of unit root as whether a series will \"recover\". Say the true function is 𝑣𝑡=𝑐+𝑎1𝑣𝑡−1+𝜖𝑡−1, a1 is a root of the series. We can always break down processes into roots where each term is by itself. If a1 < 1, that implies over a large sample we expect the series to converge to c and recover-- hence stationary. But if a1 = 1, a unit root, we expect that any deviations in the previous value vt-1 will result in a divergence and no recovery, hence, nonstationary.\n",
    "\n",
    "With just Box-Cox + first difference, it seems we've achieved stationarity. At this point, we don't really need to continue testing because it seems like this series is difference stationary and I(1) was sufficient. But in the future, we may want to try setting regression = 'ct' in the adfuller function to test of trend stationarity."
   ]
  },
  {
   "cell_type": "markdown",
   "metadata": {},
   "source": [
    "-----------\n",
    "The next step, now that we've reached stationarity, is to deal with autocorrelation. Let's first test for autocorrelation. *1*) The most parameterized test is Durbin-Watson, where the null is the assumption of typical regression while the alternative is AR(1). In the middle is *2)* a semi-parametric plot with ACF plots. The final *3)* is non-parametric test the runs test"
   ]
  },
  {
   "cell_type": "code",
   "execution_count": 11,
   "metadata": {
    "collapsed": true
   },
   "outputs": [],
   "source": [
    "x = training['box_cox_diff'].shift(1)[1:]\n",
    "y = training['box_cox_diff'][1:]"
   ]
  },
  {
   "cell_type": "code",
   "execution_count": 12,
   "metadata": {},
   "outputs": [
    {
     "data": {
      "text/html": [
       "<table class=\"simpletable\">\n",
       "<caption>OLS Regression Results</caption>\n",
       "<tr>\n",
       "  <th>Dep. Variable:</th>      <td>box_cox_diff</td>   <th>  R-squared (uncentered):</th>       <td>   0.000</td> \n",
       "</tr>\n",
       "<tr>\n",
       "  <th>Model:</th>                   <td>OLS</td>       <th>  Adj. R-squared (uncentered):</th>  <td>  -0.000</td> \n",
       "</tr>\n",
       "<tr>\n",
       "  <th>Method:</th>             <td>Least Squares</td>  <th>  F-statistic:       </th>           <td>  0.2520</td> \n",
       "</tr>\n",
       "<tr>\n",
       "  <th>Date:</th>             <td>Sun, 28 Jun 2020</td> <th>  Prob (F-statistic):</th>            <td> 0.616</td>  \n",
       "</tr>\n",
       "<tr>\n",
       "  <th>Time:</th>                 <td>17:58:31</td>     <th>  Log-Likelihood:    </th>           <td>  13026.</td> \n",
       "</tr>\n",
       "<tr>\n",
       "  <th>No. Observations:</th>      <td>  1807</td>      <th>  AIC:               </th>          <td>-2.605e+04</td>\n",
       "</tr>\n",
       "<tr>\n",
       "  <th>Df Residuals:</th>          <td>  1806</td>      <th>  BIC:               </th>          <td>-2.604e+04</td>\n",
       "</tr>\n",
       "<tr>\n",
       "  <th>Df Model:</th>              <td>     1</td>      <th>                     </th>               <td> </td>    \n",
       "</tr>\n",
       "<tr>\n",
       "  <th>Covariance Type:</th>      <td>nonrobust</td>    <th>                     </th>               <td> </td>    \n",
       "</tr>\n",
       "</table>\n",
       "<table class=\"simpletable\">\n",
       "<tr>\n",
       "        <td></td>          <th>coef</th>     <th>std err</th>      <th>t</th>      <th>P>|t|</th>  <th>[0.025</th>    <th>0.975]</th>  \n",
       "</tr>\n",
       "<tr>\n",
       "  <th>box_cox_diff</th> <td>   -0.0118</td> <td>    0.024</td> <td>   -0.502</td> <td> 0.616</td> <td>   -0.058</td> <td>    0.034</td>\n",
       "</tr>\n",
       "</table>\n",
       "<table class=\"simpletable\">\n",
       "<tr>\n",
       "  <th>Omnibus:</th>       <td>54.774</td> <th>  Durbin-Watson:     </th> <td>   1.994</td>\n",
       "</tr>\n",
       "<tr>\n",
       "  <th>Prob(Omnibus):</th> <td> 0.000</td> <th>  Jarque-Bera (JB):  </th> <td> 132.695</td>\n",
       "</tr>\n",
       "<tr>\n",
       "  <th>Skew:</th>          <td> 0.081</td> <th>  Prob(JB):          </th> <td>1.53e-29</td>\n",
       "</tr>\n",
       "<tr>\n",
       "  <th>Kurtosis:</th>      <td> 4.318</td> <th>  Cond. No.          </th> <td>    1.00</td>\n",
       "</tr>\n",
       "</table><br/><br/>Warnings:<br/>[1] Standard Errors assume that the covariance matrix of the errors is correctly specified."
      ],
      "text/plain": [
       "<class 'statsmodels.iolib.summary.Summary'>\n",
       "\"\"\"\n",
       "                                 OLS Regression Results                                \n",
       "=======================================================================================\n",
       "Dep. Variable:           box_cox_diff   R-squared (uncentered):                   0.000\n",
       "Model:                            OLS   Adj. R-squared (uncentered):             -0.000\n",
       "Method:                 Least Squares   F-statistic:                             0.2520\n",
       "Date:                Sun, 28 Jun 2020   Prob (F-statistic):                       0.616\n",
       "Time:                        17:58:31   Log-Likelihood:                          13026.\n",
       "No. Observations:                1807   AIC:                                 -2.605e+04\n",
       "Df Residuals:                    1806   BIC:                                 -2.604e+04\n",
       "Df Model:                           1                                                  \n",
       "Covariance Type:            nonrobust                                                  \n",
       "================================================================================\n",
       "                   coef    std err          t      P>|t|      [0.025      0.975]\n",
       "--------------------------------------------------------------------------------\n",
       "box_cox_diff    -0.0118      0.024     -0.502      0.616      -0.058       0.034\n",
       "==============================================================================\n",
       "Omnibus:                       54.774   Durbin-Watson:                   1.994\n",
       "Prob(Omnibus):                  0.000   Jarque-Bera (JB):              132.695\n",
       "Skew:                           0.081   Prob(JB):                     1.53e-29\n",
       "Kurtosis:                       4.318   Cond. No.                         1.00\n",
       "==============================================================================\n",
       "\n",
       "Warnings:\n",
       "[1] Standard Errors assume that the covariance matrix of the errors is correctly specified.\n",
       "\"\"\""
      ]
     },
     "execution_count": 12,
     "metadata": {},
     "output_type": "execute_result"
    }
   ],
   "source": [
    "#Lets plot a basic OLS to get reisduals and perfrom DW test\n",
    "model = sm.OLS(y, x).fit()\n",
    "predictions = model.predict(x) # make the predictions by the model\n",
    "\n",
    "# Print out the statistics\n",
    "model.summary()"
   ]
  },
  {
   "cell_type": "code",
   "execution_count": 14,
   "metadata": {},
   "outputs": [
    {
     "data": {
      "text/plain": [
       "<matplotlib.axes._subplots.AxesSubplot at 0x12305d780>"
      ]
     },
     "execution_count": 14,
     "metadata": {},
     "output_type": "execute_result"
    },
    {
     "data": {
      "image/png": "[encoded data removed]",
      "text/plain": [
       "<Figure size 432x288 with 1 Axes>"
      ]
     },
     "metadata": {
      "needs_background": "light"
     },
     "output_type": "display_data"
    }
   ],
   "source": [
    "predictions.plot()"
   ]
  },
  {
   "cell_type": "markdown",
   "metadata": {},
   "source": [
    "Durbin-Watson statistic will always vary between 0 and 4. When the statistic is close to 2, that means there is no autocorrelation detected (and we see 1.994) here. If it is close to 0, that suggest positive correlation. If it is close to 4, that suggest negative correlation."
   ]
  },
  {
   "cell_type": "code",
   "execution_count": 45,
   "metadata": {},
   "outputs": [
    {
     "data": {
      "image/png": "[encoded data removed]",
      "text/plain": [
       "<Figure size 432x288 with 1 Axes>"
      ]
     },
     "metadata": {
      "needs_background": "light"
     },
     "output_type": "display_data"
    }
   ],
   "source": [
    "full_series = sm.graphics.tsa.plot_acf(training['box_cox_diff'], zero = False)"
   ]
  },
  {
   "cell_type": "markdown",
   "metadata": {},
   "source": [
    "## AR, MA and ARIMA Models"
   ]
  },
  {
   "cell_type": "code",
   "execution_count": 4,
   "metadata": {},
   "outputs": [
    {
     "ename": "NameError",
     "evalue": "name 'training' is not defined",
     "output_type": "error",
     "traceback": [
      "\u001b[0;31m---------------------------------------------------------------------------\u001b[0m",
      "\u001b[0;31mNameError\u001b[0m                                 Traceback (most recent call last)",
      "\u001b[0;32m<ipython-input-4-e10ac52682e8>\u001b[0m in \u001b[0;36m<module>\u001b[0;34m()\u001b[0m\n\u001b[0;32m----> 1\u001b[0;31m \u001b[0mar_fit\u001b[0m \u001b[0;34m=\u001b[0m \u001b[0mtsa\u001b[0m\u001b[0;34m.\u001b[0m\u001b[0mar_model\u001b[0m\u001b[0;34m.\u001b[0m\u001b[0mAutoReg\u001b[0m\u001b[0;34m(\u001b[0m\u001b[0mtraining\u001b[0m\u001b[0;34m[\u001b[0m\u001b[0;34m'box_cox'\u001b[0m\u001b[0;34m]\u001b[0m\u001b[0;34m,\u001b[0m \u001b[0mlags\u001b[0m \u001b[0;34m=\u001b[0m \u001b[0;36m1\u001b[0m\u001b[0;34m)\u001b[0m\u001b[0;34m.\u001b[0m\u001b[0mfit\u001b[0m\u001b[0;34m(\u001b[0m\u001b[0;34m)\u001b[0m\u001b[0;34m\u001b[0m\u001b[0m\n\u001b[0m\u001b[1;32m      2\u001b[0m \u001b[0mar_fit\u001b[0m\u001b[0;34m.\u001b[0m\u001b[0msummary\u001b[0m\u001b[0;34m(\u001b[0m\u001b[0;34m)\u001b[0m\u001b[0;34m\u001b[0m\u001b[0m\n",
      "\u001b[0;31mNameError\u001b[0m: name 'training' is not defined"
     ]
    }
   ],
   "source": [
    "ar_fit = tsa.ar_model.AutoReg(training['box_cox'], lags = 1).fit()\n",
    "ar_fit.summary()"
   ]
  },
  {
   "cell_type": "code",
   "execution_count": 36,
   "metadata": {},
   "outputs": [
    {
     "name": "stderr",
     "output_type": "stream",
     "text": [
      "//anaconda/lib/python3.5/site-packages/statsmodels/tsa/base/tsa_model.py:214: ValueWarning: An unsupported index was provided and will be ignored when e.g. forecasting.\n",
      "  ' ignored when e.g. forecasting.', ValueWarning)\n"
     ]
    },
    {
     "data": {
      "text/html": [
       "<table class=\"simpletable\">\n",
       "<caption>ARMA Model Results</caption>\n",
       "<tr>\n",
       "  <th>Dep. Variable:</th>      <td>box_cox</td>     <th>  No. Observations:  </th>    <td>1808</td>   \n",
       "</tr>\n",
       "<tr>\n",
       "  <th>Model:</th>            <td>ARMA(1, 1)</td>    <th>  Log Likelihood     </th>  <td>13032.325</td>\n",
       "</tr>\n",
       "<tr>\n",
       "  <th>Method:</th>             <td>css-mle</td>     <th>  S.D. of innovations</th>    <td>0.000</td>  \n",
       "</tr>\n",
       "<tr>\n",
       "  <th>Date:</th>          <td>Sun, 28 Jun 2020</td> <th>  AIC                </th> <td>-26056.650</td>\n",
       "</tr>\n",
       "<tr>\n",
       "  <th>Time:</th>              <td>14:02:04</td>     <th>  BIC                </th> <td>-26034.650</td>\n",
       "</tr>\n",
       "<tr>\n",
       "  <th>Sample:</th>                <td>0</td>        <th>  HQIC               </th> <td>-26048.530</td>\n",
       "</tr>\n",
       "<tr>\n",
       "  <th></th>                       <td> </td>        <th>                     </th>      <td> </td>    \n",
       "</tr>\n",
       "</table>\n",
       "<table class=\"simpletable\">\n",
       "<tr>\n",
       "        <td></td>           <th>coef</th>     <th>std err</th>      <th>z</th>      <th>P>|z|</th>  <th>[0.025</th>    <th>0.975]</th>  \n",
       "</tr>\n",
       "<tr>\n",
       "  <th>const</th>         <td>    1.0556</td> <td>    0.001</td> <td> 1120.745</td> <td> 0.000</td> <td>    1.054</td> <td>    1.057</td>\n",
       "</tr>\n",
       "<tr>\n",
       "  <th>ar.L1.box_cox</th> <td>    0.9961</td> <td>    0.002</td> <td>  471.540</td> <td> 0.000</td> <td>    0.992</td> <td>    1.000</td>\n",
       "</tr>\n",
       "<tr>\n",
       "  <th>ma.L1.box_cox</th> <td>   -0.0099</td> <td>    0.024</td> <td>   -0.410</td> <td> 0.682</td> <td>   -0.057</td> <td>    0.037</td>\n",
       "</tr>\n",
       "</table>\n",
       "<table class=\"simpletable\">\n",
       "<caption>Roots</caption>\n",
       "<tr>\n",
       "    <td></td>   <th>            Real</th>  <th>         Imaginary</th> <th>         Modulus</th>  <th>        Frequency</th>\n",
       "</tr>\n",
       "<tr>\n",
       "  <th>AR.1</th> <td>           1.0039</td> <td>          +0.0000j</td> <td>           1.0039</td> <td>           0.0000</td>\n",
       "</tr>\n",
       "<tr>\n",
       "  <th>MA.1</th> <td>         101.2876</td> <td>          +0.0000j</td> <td>         101.2876</td> <td>           0.0000</td>\n",
       "</tr>\n",
       "</table>"
      ],
      "text/plain": [
       "<class 'statsmodels.iolib.summary.Summary'>\n",
       "\"\"\"\n",
       "                              ARMA Model Results                              \n",
       "==============================================================================\n",
       "Dep. Variable:                box_cox   No. Observations:                 1808\n",
       "Model:                     ARMA(1, 1)   Log Likelihood               13032.325\n",
       "Method:                       css-mle   S.D. of innovations              0.000\n",
       "Date:                Sun, 28 Jun 2020   AIC                         -26056.650\n",
       "Time:                        14:02:04   BIC                         -26034.650\n",
       "Sample:                             0   HQIC                        -26048.530\n",
       "                                                                              \n",
       "=================================================================================\n",
       "                    coef    std err          z      P>|z|      [0.025      0.975]\n",
       "---------------------------------------------------------------------------------\n",
       "const             1.0556      0.001   1120.745      0.000       1.054       1.057\n",
       "ar.L1.box_cox     0.9961      0.002    471.540      0.000       0.992       1.000\n",
       "ma.L1.box_cox    -0.0099      0.024     -0.410      0.682      -0.057       0.037\n",
       "                                    Roots                                    \n",
       "=============================================================================\n",
       "                  Real          Imaginary           Modulus         Frequency\n",
       "-----------------------------------------------------------------------------\n",
       "AR.1            1.0039           +0.0000j            1.0039            0.0000\n",
       "MA.1          101.2876           +0.0000j          101.2876            0.0000\n",
       "-----------------------------------------------------------------------------\n",
       "\"\"\""
      ]
     },
     "execution_count": 36,
     "metadata": {},
     "output_type": "execute_result"
    }
   ],
   "source": [
    "#MA(1) component is not statistically significant, so AR(1) is sufficient\n",
    "arma_fit = tsa.arima_model.ARMA(training['box_cox'],order = (1,1)).fit()\n",
    "arma_fit.summary()"
   ]
  },
  {
   "cell_type": "code",
   "execution_count": 37,
   "metadata": {},
   "outputs": [
    {
     "name": "stderr",
     "output_type": "stream",
     "text": [
      "//anaconda/lib/python3.5/site-packages/statsmodels/tsa/base/tsa_model.py:214: ValueWarning: An unsupported index was provided and will be ignored when e.g. forecasting.\n",
      "  ' ignored when e.g. forecasting.', ValueWarning)\n",
      "//anaconda/lib/python3.5/site-packages/statsmodels/tsa/base/tsa_model.py:214: ValueWarning: An unsupported index was provided and will be ignored when e.g. forecasting.\n",
      "  ' ignored when e.g. forecasting.', ValueWarning)\n"
     ]
    },
    {
     "data": {
      "text/html": [
       "<table class=\"simpletable\">\n",
       "<caption>ARIMA Model Results</caption>\n",
       "<tr>\n",
       "  <th>Dep. Variable:</th>     <td>D.box_cox</td>    <th>  No. Observations:  </th>    <td>1807</td>   \n",
       "</tr>\n",
       "<tr>\n",
       "  <th>Model:</th>          <td>ARIMA(1, 1, 1)</td>  <th>  Log Likelihood     </th>  <td>13026.283</td>\n",
       "</tr>\n",
       "<tr>\n",
       "  <th>Method:</th>             <td>css-mle</td>     <th>  S.D. of innovations</th>    <td>0.000</td>  \n",
       "</tr>\n",
       "<tr>\n",
       "  <th>Date:</th>          <td>Sun, 28 Jun 2020</td> <th>  AIC                </th> <td>-26044.567</td>\n",
       "</tr>\n",
       "<tr>\n",
       "  <th>Time:</th>              <td>14:03:19</td>     <th>  BIC                </th> <td>-26022.569</td>\n",
       "</tr>\n",
       "<tr>\n",
       "  <th>Sample:</th>                <td>1</td>        <th>  HQIC               </th> <td>-26036.448</td>\n",
       "</tr>\n",
       "<tr>\n",
       "  <th></th>                       <td> </td>        <th>                     </th>      <td> </td>    \n",
       "</tr>\n",
       "</table>\n",
       "<table class=\"simpletable\">\n",
       "<tr>\n",
       "         <td></td>            <th>coef</th>     <th>std err</th>      <th>z</th>      <th>P>|z|</th>  <th>[0.025</th>    <th>0.975]</th>  \n",
       "</tr>\n",
       "<tr>\n",
       "  <th>const</th>           <td>-3.046e-06</td> <td> 4.16e-06</td> <td>   -0.732</td> <td> 0.464</td> <td>-1.12e-05</td> <td> 5.11e-06</td>\n",
       "</tr>\n",
       "<tr>\n",
       "  <th>ar.L1.D.box_cox</th> <td>   -0.0060</td> <td>    0.534</td> <td>   -0.011</td> <td> 0.991</td> <td>   -1.053</td> <td>    1.041</td>\n",
       "</tr>\n",
       "<tr>\n",
       "  <th>ma.L1.D.box_cox</th> <td>   -0.0060</td> <td>    0.544</td> <td>   -0.011</td> <td> 0.991</td> <td>   -1.073</td> <td>    1.061</td>\n",
       "</tr>\n",
       "</table>\n",
       "<table class=\"simpletable\">\n",
       "<caption>Roots</caption>\n",
       "<tr>\n",
       "    <td></td>   <th>            Real</th>  <th>         Imaginary</th> <th>         Modulus</th>  <th>        Frequency</th>\n",
       "</tr>\n",
       "<tr>\n",
       "  <th>AR.1</th> <td>        -166.4853</td> <td>          +0.0000j</td> <td>         166.4853</td> <td>           0.5000</td>\n",
       "</tr>\n",
       "<tr>\n",
       "  <th>MA.1</th> <td>         166.1877</td> <td>          +0.0000j</td> <td>         166.1877</td> <td>           0.0000</td>\n",
       "</tr>\n",
       "</table>"
      ],
      "text/plain": [
       "<class 'statsmodels.iolib.summary.Summary'>\n",
       "\"\"\"\n",
       "                             ARIMA Model Results                              \n",
       "==============================================================================\n",
       "Dep. Variable:              D.box_cox   No. Observations:                 1807\n",
       "Model:                 ARIMA(1, 1, 1)   Log Likelihood               13026.283\n",
       "Method:                       css-mle   S.D. of innovations              0.000\n",
       "Date:                Sun, 28 Jun 2020   AIC                         -26044.567\n",
       "Time:                        14:03:19   BIC                         -26022.569\n",
       "Sample:                             1   HQIC                        -26036.448\n",
       "                                                                              \n",
       "===================================================================================\n",
       "                      coef    std err          z      P>|z|      [0.025      0.975]\n",
       "-----------------------------------------------------------------------------------\n",
       "const           -3.046e-06   4.16e-06     -0.732      0.464   -1.12e-05    5.11e-06\n",
       "ar.L1.D.box_cox    -0.0060      0.534     -0.011      0.991      -1.053       1.041\n",
       "ma.L1.D.box_cox    -0.0060      0.544     -0.011      0.991      -1.073       1.061\n",
       "                                    Roots                                    \n",
       "=============================================================================\n",
       "                  Real          Imaginary           Modulus         Frequency\n",
       "-----------------------------------------------------------------------------\n",
       "AR.1         -166.4853           +0.0000j          166.4853            0.5000\n",
       "MA.1          166.1877           +0.0000j          166.1877            0.0000\n",
       "-----------------------------------------------------------------------------\n",
       "\"\"\""
      ]
     },
     "execution_count": 37,
     "metadata": {},
     "output_type": "execute_result"
    }
   ],
   "source": [
    "#\n",
    "arima_fit = tsa.arima_model.ARIMA(training['box_cox'],order = (1,1,1)).fit()\n",
    "arima_fit.summary()"
   ]
  },
  {
   "cell_type": "code",
   "execution_count": null,
   "metadata": {
    "collapsed": true
   },
   "outputs": [],
   "source": [
    "## Lets try our own auto-arima function\n",
    "\n",
    "def objfunc(order, exog, endog):\n",
    "    from statsmodels.tsa.arima_model import ARIMA\n",
    "    fit = ARIMA(endog, order, exog).fit()\n",
    "    return fit.aic()\n",
    "\n",
    "from scipy.optimize import brute\n",
    "grid = (slice(1, 3, 1), slice(1, 3, 1), slice(1, 3, 1))\n",
    "brute(objfunc, grid, args=(exog, endog), finish=None)"
   ]
  }
 ],
 "metadata": {
  "anaconda-cloud": {},
  "kernelspec": {
   "display_name": "Python [conda env:anaconda]",
   "language": "python",
   "name": "conda-env-anaconda-py"
  },
  "language_info": {
   "codemirror_mode": {
    "name": "ipython",
    "version": 3
   },
   "file_extension": ".py",
   "mimetype": "text/x-python",
   "name": "python",
   "nbconvert_exporter": "python",
   "pygments_lexer": "ipython3",
   "version": "3.5.2"
  }
 },
 "nbformat": 4,
 "nbformat_minor": 2
}
