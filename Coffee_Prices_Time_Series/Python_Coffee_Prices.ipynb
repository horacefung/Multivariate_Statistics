{
 "cells": [
  {
   "cell_type": "markdown",
   "metadata": {},
   "source": [
    "# Rebuild R Model Selection on Coffee Prices\n",
    "\n",
    "- Attempt to reproduce coffee prices/percentage change analysis in Python, starting from model selection"
   ]
  },
  {
   "cell_type": "code",
   "execution_count": 16,
   "metadata": {
    "collapsed": true
   },
   "outputs": [],
   "source": [
    "#libraries\n",
    "import os #lets us interact with underlying operating system\n",
    "import numpy as np #\n",
    "from sklearn.linear_model import LinearRegression #if we want to use sklearn linear regression\n",
    "import statsmodels.formula.api as smf\n",
    "import pandas as pd"
   ]
  },
  {
   "cell_type": "code",
   "execution_count": 68,
   "metadata": {
    "collapsed": true
   },
   "outputs": [],
   "source": [
    "train = pd.read_csv('./Dataset/train.csv')\n",
    "train = train.drop(['Unnamed: 0'],1)\n",
    "final_test = pd.read_csv('./Dataset/test.csv')\n",
    "final_test = final_test.drop(['Unnamed: 0'], 1)"
   ]
  },
  {
   "cell_type": "code",
   "execution_count": 69,
   "metadata": {},
   "outputs": [
    {
     "name": "stdout",
     "output_type": "stream",
     "text": [
      "['Date_Index', 'Celsius', 'Rainfall', 'Real_USD', 'FX_Return', 'Production', 'ProdChange', 'ONI', 'logCoffee_Price', 'Summer', 'Fall', 'Winter', 'Spring', 'lagged_temp', 'lagged_rain', 'lagged_oni', 'Season', 'row_id', 'lagged_logCoffee', 'CoffeeReturn', 'Jan2010', 'Jan2012', 'Jan2011']\n"
     ]
    }
   ],
   "source": [
    "print(list(train))"
   ]
  },
  {
   "cell_type": "code",
   "execution_count": 72,
   "metadata": {},
   "outputs": [
    {
     "data": {
      "text/html": [
       "<div>\n",
       "<style scoped>\n",
       "    .dataframe tbody tr th:only-of-type {\n",
       "        vertical-align: middle;\n",
       "    }\n",
       "\n",
       "    .dataframe tbody tr th {\n",
       "        vertical-align: top;\n",
       "    }\n",
       "\n",
       "    .dataframe thead th {\n",
       "        text-align: right;\n",
       "    }\n",
       "</style>\n",
       "<table border=\"1\" class=\"dataframe\">\n",
       "  <thead>\n",
       "    <tr style=\"text-align: right;\">\n",
       "      <th></th>\n",
       "      <th>Date_Index</th>\n",
       "      <th>Celsius</th>\n",
       "      <th>Rainfall</th>\n",
       "      <th>Real_USD</th>\n",
       "      <th>FX_Return</th>\n",
       "      <th>Production</th>\n",
       "      <th>ProdChange</th>\n",
       "      <th>ONI</th>\n",
       "      <th>logCoffee_Price</th>\n",
       "      <th>Summer</th>\n",
       "      <th>...</th>\n",
       "      <th>lagged_temp</th>\n",
       "      <th>lagged_rain</th>\n",
       "      <th>lagged_oni</th>\n",
       "      <th>Season</th>\n",
       "      <th>row_id</th>\n",
       "      <th>lagged_logCoffee</th>\n",
       "      <th>CoffeeReturn</th>\n",
       "      <th>Jan2010</th>\n",
       "      <th>Jan2012</th>\n",
       "      <th>Jan2011</th>\n",
       "    </tr>\n",
       "  </thead>\n",
       "  <tbody>\n",
       "    <tr>\n",
       "      <th>0</th>\n",
       "      <td>Feb 2009</td>\n",
       "      <td>25.8547</td>\n",
       "      <td>245.226</td>\n",
       "      <td>2.3230</td>\n",
       "      <td>0.654</td>\n",
       "      <td>2.360383</td>\n",
       "      <td>-0.150173</td>\n",
       "      <td>-0.6</td>\n",
       "      <td>4.846429</td>\n",
       "      <td>1</td>\n",
       "      <td>...</td>\n",
       "      <td>25.7319</td>\n",
       "      <td>236.915</td>\n",
       "      <td>-1.3</td>\n",
       "      <td>SUMMER</td>\n",
       "      <td>1</td>\n",
       "      <td>4.910062</td>\n",
       "      <td>-6.363253</td>\n",
       "      <td>0</td>\n",
       "      <td>0</td>\n",
       "      <td>0</td>\n",
       "    </tr>\n",
       "    <tr>\n",
       "      <th>1</th>\n",
       "      <td>Mar 2009</td>\n",
       "      <td>26.1097</td>\n",
       "      <td>262.495</td>\n",
       "      <td>2.3161</td>\n",
       "      <td>-0.297</td>\n",
       "      <td>2.392975</td>\n",
       "      <td>1.380793</td>\n",
       "      <td>-0.4</td>\n",
       "      <td>4.875760</td>\n",
       "      <td>0</td>\n",
       "      <td>...</td>\n",
       "      <td>25.6503</td>\n",
       "      <td>276.601</td>\n",
       "      <td>-1.1</td>\n",
       "      <td>FALL</td>\n",
       "      <td>2</td>\n",
       "      <td>4.846429</td>\n",
       "      <td>2.933108</td>\n",
       "      <td>0</td>\n",
       "      <td>0</td>\n",
       "      <td>0</td>\n",
       "    </tr>\n",
       "    <tr>\n",
       "      <th>2</th>\n",
       "      <td>Apr 2009</td>\n",
       "      <td>25.5711</td>\n",
       "      <td>209.818</td>\n",
       "      <td>2.2027</td>\n",
       "      <td>-4.896</td>\n",
       "      <td>2.411981</td>\n",
       "      <td>0.794241</td>\n",
       "      <td>-0.1</td>\n",
       "      <td>4.891289</td>\n",
       "      <td>0</td>\n",
       "      <td>...</td>\n",
       "      <td>25.3256</td>\n",
       "      <td>205.173</td>\n",
       "      <td>-0.9</td>\n",
       "      <td>FALL</td>\n",
       "      <td>3</td>\n",
       "      <td>4.875760</td>\n",
       "      <td>1.552834</td>\n",
       "      <td>0</td>\n",
       "      <td>0</td>\n",
       "      <td>0</td>\n",
       "    </tr>\n",
       "    <tr>\n",
       "      <th>3</th>\n",
       "      <td>May 2009</td>\n",
       "      <td>24.7066</td>\n",
       "      <td>148.634</td>\n",
       "      <td>2.0689</td>\n",
       "      <td>-6.074</td>\n",
       "      <td>2.407092</td>\n",
       "      <td>-0.202696</td>\n",
       "      <td>0.2</td>\n",
       "      <td>5.040243</td>\n",
       "      <td>0</td>\n",
       "      <td>...</td>\n",
       "      <td>24.1105</td>\n",
       "      <td>134.812</td>\n",
       "      <td>-0.7</td>\n",
       "      <td>FALL</td>\n",
       "      <td>4</td>\n",
       "      <td>4.891289</td>\n",
       "      <td>14.895495</td>\n",
       "      <td>0</td>\n",
       "      <td>0</td>\n",
       "      <td>0</td>\n",
       "    </tr>\n",
       "    <tr>\n",
       "      <th>4</th>\n",
       "      <td>Jun 2009</td>\n",
       "      <td>23.4252</td>\n",
       "      <td>103.132</td>\n",
       "      <td>1.9586</td>\n",
       "      <td>-5.331</td>\n",
       "      <td>2.413316</td>\n",
       "      <td>0.258569</td>\n",
       "      <td>0.4</td>\n",
       "      <td>4.954159</td>\n",
       "      <td>0</td>\n",
       "      <td>...</td>\n",
       "      <td>23.3868</td>\n",
       "      <td>77.829</td>\n",
       "      <td>-0.5</td>\n",
       "      <td>WINTER</td>\n",
       "      <td>5</td>\n",
       "      <td>5.040243</td>\n",
       "      <td>-8.608434</td>\n",
       "      <td>0</td>\n",
       "      <td>0</td>\n",
       "      <td>0</td>\n",
       "    </tr>\n",
       "  </tbody>\n",
       "</table>\n",
       "<p>5 rows × 23 columns</p>\n",
       "</div>"
      ],
      "text/plain": [
       "  Date_Index  Celsius  Rainfall  Real_USD  FX_Return  Production  ProdChange  \\\n",
       "0   Feb 2009  25.8547   245.226    2.3230      0.654    2.360383   -0.150173   \n",
       "1   Mar 2009  26.1097   262.495    2.3161     -0.297    2.392975    1.380793   \n",
       "2   Apr 2009  25.5711   209.818    2.2027     -4.896    2.411981    0.794241   \n",
       "3   May 2009  24.7066   148.634    2.0689     -6.074    2.407092   -0.202696   \n",
       "4   Jun 2009  23.4252   103.132    1.9586     -5.331    2.413316    0.258569   \n",
       "\n",
       "   ONI  logCoffee_Price  Summer   ...     lagged_temp  lagged_rain  \\\n",
       "0 -0.6         4.846429       1   ...         25.7319      236.915   \n",
       "1 -0.4         4.875760       0   ...         25.6503      276.601   \n",
       "2 -0.1         4.891289       0   ...         25.3256      205.173   \n",
       "3  0.2         5.040243       0   ...         24.1105      134.812   \n",
       "4  0.4         4.954159       0   ...         23.3868       77.829   \n",
       "\n",
       "   lagged_oni  Season  row_id  lagged_logCoffee CoffeeReturn  Jan2010  \\\n",
       "0        -1.3  SUMMER       1          4.910062    -6.363253        0   \n",
       "1        -1.1    FALL       2          4.846429     2.933108        0   \n",
       "2        -0.9    FALL       3          4.875760     1.552834        0   \n",
       "3        -0.7    FALL       4          4.891289    14.895495        0   \n",
       "4        -0.5  WINTER       5          5.040243    -8.608434        0   \n",
       "\n",
       "   Jan2012  Jan2011  \n",
       "0        0        0  \n",
       "1        0        0  \n",
       "2        0        0  \n",
       "3        0        0  \n",
       "4        0        0  \n",
       "\n",
       "[5 rows x 23 columns]"
      ]
     },
     "execution_count": 72,
     "metadata": {},
     "output_type": "execute_result"
    }
   ],
   "source": [
    "train.head()"
   ]
  },
  {
   "cell_type": "markdown",
   "metadata": {},
   "source": [
    "**Practice plotting**"
   ]
  },
  {
   "cell_type": "code",
   "execution_count": null,
   "metadata": {
    "collapsed": true
   },
   "outputs": [],
   "source": [
    "#I want to visualize the fit with different lambdas \n",
    "#make the plots show\n",
    "%matplotlib inline \n",
    "import matplotlib.pyplot as plt\n",
    "from matplotlib.ticker import FuncFormatter"
   ]
  },
  {
   "cell_type": "code",
   "execution_count": 118,
   "metadata": {},
   "outputs": [
    {
     "data": {
      "image/png": "[encoded data removed]",
      "text/plain": [
       "<Figure size 864x1080 with 5 Axes>"
      ]
     },
     "metadata": {
      "needs_background": "light"
     },
     "output_type": "display_data"
    }
   ],
   "source": [
    "#create the figure\n",
    "fig, ((ax1,ax2), (ax3, ax4), (ax5,ax6)) = plt.subplots(3,2, figsize=(12,15))\n",
    "\n",
    "#Title of figure\n",
    "fig.suptitle('Selected Predictors vs Coffee Return', fontsize=15, fontweight='bold');\n",
    "\n",
    "#plot the data\n",
    "train.plot(kind='scatter', x='Celsius', y='CoffeeReturn', ax=ax1)\n",
    "ax1.set(title='Celsius vs Coffee Return')\n",
    "\n",
    "train.plot(kind='scatter', x='Rainfall', y='CoffeeReturn', ax=ax2)\n",
    "ax2.set(title='Rainfall vs Coffee Return')\n",
    "\n",
    "train.plot(kind='scatter', x='lagged_rain', y='CoffeeReturn', ax=ax3)\n",
    "ax3.set(title='Lagged Rain vs Coffee Return')\n",
    "\n",
    "train.plot(kind='scatter', x='FX_Return', y='CoffeeReturn', ax=ax4)\n",
    "ax4.set(title='FX Return vs Coffee Return')\n",
    "\n",
    "train.plot(kind='scatter', x='lagged_oni', y='CoffeeReturn', ax=ax5)\n",
    "ax5.set(title='Lagged ONI vs Coffee Return')\n",
    "\n",
    "#Delete extra subplot\n",
    "fig.delaxes(ax6)\n",
    "\n",
    "#Tight layout\n",
    "#tight_layout docs: [left, bottom, right, top] in normalized (0, 1) figure coordinates\n",
    "#https://matplotlib.org/3.1.0/api/_as_gen/matplotlib.pyplot.tight_layout.html\n",
    "#bottom left corner (0,0) top right corner (1,1) default (0,0,1,1)\n",
    "fig.tight_layout(rect=[0, 0, 1, 0.95])"
   ]
  },
  {
   "cell_type": "code",
   "execution_count": 5,
   "metadata": {
    "collapsed": true
   },
   "outputs": [],
   "source": [
    "#Get initial linear regression\n",
    "output = smf.ols('''CoffeeReturn ~ Celsius + Rainfall + lagged_rain + FX_Return \n",
    "                    + lagged_oni + Winter + Jan2010 + Jan2012 + Jan2011''', data=train).fit()"
   ]
  },
  {
   "cell_type": "code",
   "execution_count": 6,
   "metadata": {},
   "outputs": [
    {
     "data": {
      "text/html": [
       "<table class=\"simpletable\">\n",
       "<caption>OLS Regression Results</caption>\n",
       "<tr>\n",
       "  <th>Dep. Variable:</th>      <td>CoffeeReturn</td>   <th>  R-squared:         </th> <td>   0.355</td>\n",
       "</tr>\n",
       "<tr>\n",
       "  <th>Model:</th>                   <td>OLS</td>       <th>  Adj. R-squared:    </th> <td>   0.275</td>\n",
       "</tr>\n",
       "<tr>\n",
       "  <th>Method:</th>             <td>Least Squares</td>  <th>  F-statistic:       </th> <td>   4.463</td>\n",
       "</tr>\n",
       "<tr>\n",
       "  <th>Date:</th>             <td>Sun, 09 Jun 2019</td> <th>  Prob (F-statistic):</th> <td>0.000111</td>\n",
       "</tr>\n",
       "<tr>\n",
       "  <th>Time:</th>                 <td>20:51:03</td>     <th>  Log-Likelihood:    </th> <td> -265.44</td>\n",
       "</tr>\n",
       "<tr>\n",
       "  <th>No. Observations:</th>      <td>    83</td>      <th>  AIC:               </th> <td>   550.9</td>\n",
       "</tr>\n",
       "<tr>\n",
       "  <th>Df Residuals:</th>          <td>    73</td>      <th>  BIC:               </th> <td>   575.1</td>\n",
       "</tr>\n",
       "<tr>\n",
       "  <th>Df Model:</th>              <td>     9</td>      <th>                     </th>     <td> </td>   \n",
       "</tr>\n",
       "<tr>\n",
       "  <th>Covariance Type:</th>      <td>nonrobust</td>    <th>                     </th>     <td> </td>   \n",
       "</tr>\n",
       "</table>\n",
       "<table class=\"simpletable\">\n",
       "<tr>\n",
       "       <td></td>          <th>coef</th>     <th>std err</th>      <th>t</th>      <th>P>|t|</th>  <th>[0.025</th>    <th>0.975]</th>  \n",
       "</tr>\n",
       "<tr>\n",
       "  <th>Intercept</th>   <td>  -59.6622</td> <td>   33.411</td> <td>   -1.786</td> <td> 0.078</td> <td> -126.250</td> <td>    6.925</td>\n",
       "</tr>\n",
       "<tr>\n",
       "  <th>Celsius</th>     <td>    2.2045</td> <td>    1.262</td> <td>    1.747</td> <td> 0.085</td> <td>   -0.310</td> <td>    4.719</td>\n",
       "</tr>\n",
       "<tr>\n",
       "  <th>Rainfall</th>    <td>    0.0468</td> <td>    0.034</td> <td>    1.373</td> <td> 0.174</td> <td>   -0.021</td> <td>    0.115</td>\n",
       "</tr>\n",
       "<tr>\n",
       "  <th>lagged_rain</th> <td>   -0.0282</td> <td>    0.033</td> <td>   -0.862</td> <td> 0.391</td> <td>   -0.093</td> <td>    0.037</td>\n",
       "</tr>\n",
       "<tr>\n",
       "  <th>FX_Return</th>   <td>   -0.7142</td> <td>    0.204</td> <td>   -3.494</td> <td> 0.001</td> <td>   -1.122</td> <td>   -0.307</td>\n",
       "</tr>\n",
       "<tr>\n",
       "  <th>lagged_oni</th>  <td>    4.7022</td> <td>    1.200</td> <td>    3.918</td> <td> 0.000</td> <td>    2.310</td> <td>    7.094</td>\n",
       "</tr>\n",
       "<tr>\n",
       "  <th>Winter</th>      <td>    4.6138</td> <td>    3.113</td> <td>    1.482</td> <td> 0.143</td> <td>   -1.590</td> <td>   10.817</td>\n",
       "</tr>\n",
       "<tr>\n",
       "  <th>Jan2010</th>     <td>   -4.2640</td> <td>    6.516</td> <td>   -0.654</td> <td> 0.515</td> <td>  -17.251</td> <td>    8.723</td>\n",
       "</tr>\n",
       "<tr>\n",
       "  <th>Jan2012</th>     <td>    4.8628</td> <td>    6.615</td> <td>    0.735</td> <td> 0.465</td> <td>   -8.321</td> <td>   18.046</td>\n",
       "</tr>\n",
       "<tr>\n",
       "  <th>Jan2011</th>     <td>    0.0790</td> <td>    6.747</td> <td>    0.012</td> <td> 0.991</td> <td>  -13.368</td> <td>   13.526</td>\n",
       "</tr>\n",
       "</table>\n",
       "<table class=\"simpletable\">\n",
       "<tr>\n",
       "  <th>Omnibus:</th>       <td> 0.433</td> <th>  Durbin-Watson:     </th> <td>   2.152</td>\n",
       "</tr>\n",
       "<tr>\n",
       "  <th>Prob(Omnibus):</th> <td> 0.805</td> <th>  Jarque-Bera (JB):  </th> <td>   0.092</td>\n",
       "</tr>\n",
       "<tr>\n",
       "  <th>Skew:</th>          <td>-0.003</td> <th>  Prob(JB):          </th> <td>   0.955</td>\n",
       "</tr>\n",
       "<tr>\n",
       "  <th>Kurtosis:</th>      <td> 3.163</td> <th>  Cond. No.          </th> <td>1.12e+04</td>\n",
       "</tr>\n",
       "</table><br/><br/>Warnings:<br/>[1] Standard Errors assume that the covariance matrix of the errors is correctly specified.<br/>[2] The condition number is large, 1.12e+04. This might indicate that there are<br/>strong multicollinearity or other numerical problems."
      ],
      "text/plain": [
       "<class 'statsmodels.iolib.summary.Summary'>\n",
       "\"\"\"\n",
       "                            OLS Regression Results                            \n",
       "==============================================================================\n",
       "Dep. Variable:           CoffeeReturn   R-squared:                       0.355\n",
       "Model:                            OLS   Adj. R-squared:                  0.275\n",
       "Method:                 Least Squares   F-statistic:                     4.463\n",
       "Date:                Sun, 09 Jun 2019   Prob (F-statistic):           0.000111\n",
       "Time:                        20:51:03   Log-Likelihood:                -265.44\n",
       "No. Observations:                  83   AIC:                             550.9\n",
       "Df Residuals:                      73   BIC:                             575.1\n",
       "Df Model:                           9                                         \n",
       "Covariance Type:            nonrobust                                         \n",
       "===============================================================================\n",
       "                  coef    std err          t      P>|t|      [0.025      0.975]\n",
       "-------------------------------------------------------------------------------\n",
       "Intercept     -59.6622     33.411     -1.786      0.078    -126.250       6.925\n",
       "Celsius         2.2045      1.262      1.747      0.085      -0.310       4.719\n",
       "Rainfall        0.0468      0.034      1.373      0.174      -0.021       0.115\n",
       "lagged_rain    -0.0282      0.033     -0.862      0.391      -0.093       0.037\n",
       "FX_Return      -0.7142      0.204     -3.494      0.001      -1.122      -0.307\n",
       "lagged_oni      4.7022      1.200      3.918      0.000       2.310       7.094\n",
       "Winter          4.6138      3.113      1.482      0.143      -1.590      10.817\n",
       "Jan2010        -4.2640      6.516     -0.654      0.515     -17.251       8.723\n",
       "Jan2012         4.8628      6.615      0.735      0.465      -8.321      18.046\n",
       "Jan2011         0.0790      6.747      0.012      0.991     -13.368      13.526\n",
       "==============================================================================\n",
       "Omnibus:                        0.433   Durbin-Watson:                   2.152\n",
       "Prob(Omnibus):                  0.805   Jarque-Bera (JB):                0.092\n",
       "Skew:                          -0.003   Prob(JB):                        0.955\n",
       "Kurtosis:                       3.163   Cond. No.                     1.12e+04\n",
       "==============================================================================\n",
       "\n",
       "Warnings:\n",
       "[1] Standard Errors assume that the covariance matrix of the errors is correctly specified.\n",
       "[2] The condition number is large, 1.12e+04. This might indicate that there are\n",
       "strong multicollinearity or other numerical problems.\n",
       "\"\"\""
      ]
     },
     "execution_count": 6,
     "metadata": {},
     "output_type": "execute_result"
    }
   ],
   "source": [
    "output.summary()"
   ]
  },
  {
   "cell_type": "code",
   "execution_count": 7,
   "metadata": {},
   "outputs": [
    {
     "name": "stdout",
     "output_type": "stream",
     "text": [
      "Intercept : 2321.485552729827\n",
      "Celsius : 2.859970655820971\n",
      "Rainfall : 12.00811460359824\n",
      "lagged_rain : 11.576584061622231\n",
      "FX_Return : 1.1125268248263849\n",
      "lagged_oni : 1.158554610022528\n",
      "Winter : 3.8079723375360954\n",
      "Jan2010 : 1.0511469189092526\n",
      "Jan2012 : 1.083206084452123\n",
      "Jan2011 : 1.126916838589301\n"
     ]
    }
   ],
   "source": [
    "from statsmodels.stats.outliers_influence import variance_inflation_factor\n",
    "\n",
    "variables = output.model.exog\n",
    "vif = [variance_inflation_factor(variables, i) for i in range(variables.shape[1])]\n",
    "for i in range(10):\n",
    "    print(output.params.index[i],':', vif[i])"
   ]
  },
  {
   "cell_type": "code",
   "execution_count": 8,
   "metadata": {
    "collapsed": true
   },
   "outputs": [],
   "source": [
    "#Prep for sklearn, need to be numpy arrays and matrixes\n",
    "X_array = train[['Celsius', 'Rainfall', 'lagged_rain', 'FX_Return', 'lagged_oni', 'Winter', 'Jan2010', 'Jan2012',\n",
    "              'Jan2011']]\n",
    "X_array = X_array.values\n",
    "\n",
    "Y_array = train['CoffeeReturn']\n",
    "Y_array = Y_array.values"
   ]
  },
  {
   "cell_type": "code",
   "execution_count": 29,
   "metadata": {},
   "outputs": [
    {
     "data": {
      "text/plain": [
       "(-59.66215957976141,\n",
       " array([ 2.20448011,  0.04679598, -0.02815823, -0.71420371,  4.70218913,\n",
       "         4.61382788, -4.26404658,  4.86275293,  0.0789858 ]))"
      ]
     },
     "execution_count": 29,
     "metadata": {},
     "output_type": "execute_result"
    }
   ],
   "source": [
    "#Lets test and see if linear regression looks the same\n",
    "#Looks good to me\n",
    "from sklearn.linear_model import LinearRegression\n",
    "lin_reg = LinearRegression()\n",
    "lin_reg = lin_reg.fit(X_array, Y_array)\n",
    "lin_reg.intercept_, lin_reg.coef_"
   ]
  },
  {
   "cell_type": "markdown",
   "metadata": {},
   "source": [
    "## Regularization\n",
    "\n",
    "**The cross-validation here is INCORRECT.** We should have separated the data into K folds, leave one out, get the best predictors excluding kth fold, build the model on 1-kth and then do validation on the Kth fold. The idea is to recreate the \"experiment\" of testing on independent data, selecting the predictors on the test data is not independent."
   ]
  },
  {
   "cell_type": "code",
   "execution_count": 10,
   "metadata": {},
   "outputs": [
    {
     "data": {
      "text/plain": [
       "(-8.286033551948531,\n",
       " array([ 2.79330962e-01,  5.44163606e-03,  1.65920366e-03, -3.80301186e-01,\n",
       "         2.35945667e+00,  2.77263454e-01, -1.94809706e+00,  2.15259114e+00,\n",
       "         2.54336353e+00]))"
      ]
     },
     "execution_count": 10,
     "metadata": {},
     "output_type": "execute_result"
    }
   ],
   "source": [
    "#Ridge Regression\n",
    "from sklearn.linear_model import Ridge\n",
    "ridge_reg = Ridge(alpha=1, solver=\"cholesky\", normalize=True, random_state=40) \n",
    "\n",
    "ridge_reg.fit(X_array, Y_array)\n",
    "ridge_reg.intercept_, ridge_reg.coef_"
   ]
  },
  {
   "cell_type": "code",
   "execution_count": 11,
   "metadata": {},
   "outputs": [
    {
     "data": {
      "text/plain": [
       "(-0.8264824322333661,\n",
       " array([ 1.84175865,  2.66360854, -1.46521415, -2.54965925,  2.89679729,\n",
       "         1.79548088, -0.43875347,  0.53326169,  0.0248641 ]))"
      ]
     },
     "execution_count": 11,
     "metadata": {},
     "output_type": "execute_result"
    }
   ],
   "source": [
    "#import sklearn\n",
    "#sklearn.__version_\n",
    "from sklearn.preprocessing import StandardScaler\n",
    "from sklearn.pipeline import Pipeline\n",
    "\n",
    "#standardization more vulnerable to outliers, but we have removed most unusual observations\n",
    "#standardization is preferred in most situation, it centers to data whereas normalization just fits everything\n",
    "#between the range of (0,1)\n",
    "\n",
    "std_scaler = StandardScaler()\n",
    "ridge_func = Ridge(alpha=1, fit_intercept=True, solver='cholesky')\n",
    "\n",
    "ridge_reg = Pipeline([('std_scaler', std_scaler), ('ridge_func', ridge_func)])\n",
    "ridge_reg = ridge_reg.fit(X_array, Y_array)\n",
    "\n",
    "ridge_reg.named_steps['ridge_func'].intercept_, ridge_reg.named_steps['ridge_func'].coef_"
   ]
  },
  {
   "cell_type": "code",
   "execution_count": 30,
   "metadata": {},
   "outputs": [
    {
     "data": {
      "text/plain": [
       "array([8.40128672, 4.04513003, 4.78056739, 8.26912827, 7.14876668,\n",
       "       5.44735253, 7.5308912 , 8.87219565, 2.70816111, 5.23197857])"
      ]
     },
     "execution_count": 30,
     "metadata": {},
     "output_type": "execute_result"
    }
   ],
   "source": [
    "from sklearn.model_selection import cross_val_score\n",
    "\n",
    "scores = cross_val_score(lin_reg, X_array, Y_array,\n",
    "                         scoring=\"neg_mean_squared_error\", cv=10)\n",
    "np.sqrt(-scores)"
   ]
  },
  {
   "cell_type": "code",
   "execution_count": 31,
   "metadata": {},
   "outputs": [
    {
     "data": {
      "text/plain": [
       "6.243545815710189"
      ]
     },
     "execution_count": 31,
     "metadata": {},
     "output_type": "execute_result"
    }
   ],
   "source": [
    "np.mean(np.sqrt(-scores))"
   ]
  },
  {
   "cell_type": "code",
   "execution_count": 120,
   "metadata": {
    "collapsed": true
   },
   "outputs": [],
   "source": [
    "##We can compare the cross-validated RMSE of models at different alphas\n",
    "def ridge_cv(alpha_list, X_input, Y_input, cv_fold, standardize):\n",
    "    std_scaler = StandardScaler()\n",
    "    if standardize == True:\n",
    "        for i in alpha_list:\n",
    "            ridge_func = Ridge(alpha=i, fit_intercept=True, solver='cholesky')\n",
    "            ridge_reg = Pipeline([('std_scaler', std_scaler), ('ridge_func', ridge_func)])\n",
    "            scores = cross_val_score(ridge_reg, X_input, Y_input, scoring='neg_mean_squared_error', cv=cv_fold)\n",
    "            print('alpha ', i, ':', np.mean(np.sqrt(-scores)))\n",
    "    if standardize == False:\n",
    "        for i in alpha_list:\n",
    "            ridge_func = Ridge(alpha=i, fit_intercept=True, solver='cholesky')\n",
    "            socres = cross_val_score(ridge_reg, X_input, Y_input, scoring='neg_mean_squared_error', cv=cv_fold)\n",
    "            print('alpha ', i, ':', np.mean(np.sqrt(-scores)))"
   ]
  },
  {
   "cell_type": "code",
   "execution_count": 121,
   "metadata": {},
   "outputs": [
    {
     "name": "stdout",
     "output_type": "stream",
     "text": [
      "alpha  0 : 6.243545815710191\n",
      "alpha  0.1 : 6.239792445157169\n",
      "alpha  1 : 6.218225202228922\n",
      "alpha  5 : 6.202123611462007\n",
      "alpha  10 : 6.218018524444505\n",
      "alpha  30 : 6.333438804244393\n"
     ]
    }
   ],
   "source": [
    "#we get a slight improvement in RMSE\n",
    "ridge_cv([0, 0.1,1, 5, 10, 30], X_array, Y_array, 10, standardize=True)"
   ]
  },
  {
   "cell_type": "code",
   "execution_count": 122,
   "metadata": {},
   "outputs": [
    {
     "name": "stdout",
     "output_type": "stream",
     "text": [
      "alpha  1 : 6.218225202228922\n",
      "alpha  2 : 6.20761073546945\n",
      "alpha  3 : 6.203064302660308\n",
      "alpha  4 : 6.201650348836816\n",
      "alpha  5 : 6.202123611462007\n",
      "alpha  6 : 6.203861079061407\n",
      "alpha  7 : 6.206508633409495\n",
      "alpha  8 : 6.209844021846904\n"
     ]
    }
   ],
   "source": [
    "#we get a slight improvement in RMSE\n",
    "ridge_cv([1, 2, 3, 4, 5, 6, 7, 8], X_array, Y_array, 10, standardize=True)"
   ]
  },
  {
   "cell_type": "code",
   "execution_count": 123,
   "metadata": {},
   "outputs": [
    {
     "data": {
      "text/plain": [
       "(-0.8264824322333658,\n",
       " array([ 1.56246955,  1.96760275, -0.86710823, -2.5143852 ,  2.83540258,\n",
       "         1.50040017, -0.40504821,  0.52788368,  0.05299149]))"
      ]
     },
     "execution_count": 123,
     "metadata": {},
     "output_type": "execute_result"
    }
   ],
   "source": [
    "#Best ridge\n",
    "ridge_func = Ridge(alpha=3, fit_intercept=True, solver='cholesky')\n",
    "\n",
    "ridge_reg = Pipeline([('std_scaler', std_scaler), ('ridge_func', ridge_func)])\n",
    "ridge_reg = ridge_reg.fit(X_array, Y_array)\n",
    "\n",
    "ridge_reg.named_steps['ridge_func'].intercept_, ridge_reg.named_steps['ridge_func'].coef_"
   ]
  },
  {
   "cell_type": "code",
   "execution_count": 125,
   "metadata": {},
   "outputs": [],
   "source": [
    "#Lasso Regression (LARS)\n",
    "from sklearn.linear_model import LassoLars\n",
    "\n",
    "##We can compare the cross-validated RMSE of models at different alphas\n",
    "def lasso_lars_cv(alpha_list, X_input, Y_input, cv_fold, standardize):\n",
    "    std_scaler = StandardScaler()\n",
    "    if standardize == True:\n",
    "        for i in alpha_list:\n",
    "            lasso_func = LassoLars(alpha=i, fit_intercept=True)\n",
    "            lasso_reg = Pipeline([('std_scaler', std_scaler), ('lasso_func', lasso_func)])\n",
    "            scores = cross_val_score(lasso_reg, X_input, Y_input, scoring='neg_mean_squared_error', cv=cv_fold)\n",
    "            print('alpha ', i, ':', np.mean(np.sqrt(-scores)))\n",
    "    if standardize == False:\n",
    "        for i in alpha_list:\n",
    "            lasso_reg = LassoLars(alpha=i, fit_intercept=True)\n",
    "            socres = cross_val_score(lasso_reg, X_input, Y_input, scoring='neg_mean_squared_error', cv=cv_fold)\n",
    "            print('alpha ', i, ':', np.mean(np.sqrt(-scores)))"
   ]
  },
  {
   "cell_type": "code",
   "execution_count": 129,
   "metadata": {},
   "outputs": [
    {
     "name": "stdout",
     "output_type": "stream",
     "text": [
      "alpha  0.001 : 6.243893311123725\n",
      "alpha  0.01 : 6.230255818911941\n",
      "alpha  0.1 : 6.394961375291585\n",
      "alpha  1 : 7.312963578392664\n",
      "alpha  10 : 7.312963578392664\n"
     ]
    }
   ],
   "source": [
    "lasso_lars_cv([0.001, 0.01, 0.1, 1, 10], X_array, Y_array, 10, standardize=True)"
   ]
  },
  {
   "cell_type": "code",
   "execution_count": 134,
   "metadata": {},
   "outputs": [
    {
     "name": "stdout",
     "output_type": "stream",
     "text": [
      "alpha  0.006 : 6.233588028677181\n",
      "alpha  0.008 : 6.233711552217072\n",
      "alpha  0.01 : 6.230255818911941\n",
      "alpha  0.012 : 6.225572307761915\n",
      "alpha  0.014 : 6.2205184347455225\n",
      "alpha  0.016 : 6.225988443814764\n",
      "alpha  0.018 : 6.233222091280058\n",
      "alpha  0.02 : 6.2390877477482\n"
     ]
    }
   ],
   "source": [
    "lasso_lars_cv([0.006, 0.008, 0.01, 0.012, 0.014, 0.016, 0.018, 0.02], X_array, Y_array, 10, standardize=True)"
   ]
  },
  {
   "cell_type": "code",
   "execution_count": null,
   "metadata": {
    "collapsed": true
   },
   "outputs": [],
   "source": []
  }
 ],
 "metadata": {
  "anaconda-cloud": {},
  "kernelspec": {
   "display_name": "Python [conda env:anaconda]",
   "language": "python",
   "name": "conda-env-anaconda-py"
  },
  "language_info": {
   "codemirror_mode": {
    "name": "ipython",
    "version": 3
   },
   "file_extension": ".py",
   "mimetype": "text/x-python",
   "name": "python",
   "nbconvert_exporter": "python",
   "pygments_lexer": "ipython3",
   "version": "3.5.2"
  }
 },
 "nbformat": 4,
 "nbformat_minor": 2
}
